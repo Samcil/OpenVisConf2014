{
 "metadata": {
  "celltoolbar": "Slideshow",
  "name": "",
  "signature": "sha256:ee4c3d8e15b44c9296234c8d104f7346d1c5c62db5e2d7cb365b297fa7374b10"
 },
 "nbformat": 3,
 "nbformat_minor": 0,
 "worksheets": [
  {
   "cells": [
    {
     "cell_type": "heading",
     "level": 1,
     "metadata": {
      "slideshow": {
       "slide_type": "slide"
      }
     },
     "source": [
      "IPython notebook: visualization in context"
     ]
    },
    {
     "cell_type": "code",
     "collapsed": false,
     "input": [
      "%run talktools\n",
      "%matplotlib inline"
     ],
     "language": "python",
     "metadata": {
      "slideshow": {
       "slide_type": "skip"
      }
     },
     "outputs": [
      {
       "html": [
        "<style>\n",
        "/*\n",
        "   Simple CSS styling for using IPython Notebooks for talks.\n",
        "\n",
        "   Author: Fernando Perez <fernando.perez@berkeley.edu>\n",
        "*/\n",
        "\n",
        "talk-title\n",
        "{\n",
        "  color: #111133;\n",
        "  font-size: 220%;\n",
        "  font-weight:bold;\n",
        "  line-height: 1.2;\n",
        "  margin: 10px 50px 10px;\n",
        "  }\n",
        "\n",
        "talk-subtitle\n",
        "{\n",
        "  color: #111155;\n",
        "  font-size: 150%;\n",
        "  font-weight:bold;\n",
        "  line-height: 1.2;\n",
        "  margin: 20px 50px 20px;\n",
        "  text-align: center;\n",
        "  }\n",
        "\n",
        ".slide-header, p.slide-header\n",
        "{\n",
        "  color: #498AF3;\n",
        "  font-size: 180%;\n",
        "  font-weight:bold;\n",
        "  margin: 0px 20px 10px;\n",
        "  page-break-before: always;\n",
        "  text-align: center;\n",
        "  }\n",
        "\n",
        ".rendered_html\n",
        "{\n",
        "  color: #2C5494;\n",
        "  font-family: Ubuntu;\n",
        "  font-size: 170%;\n",
        "  line-height: 1.1;\n",
        "  margin: 0.5em 0;\n",
        "  }\n",
        "\n",
        ".rendered_html h1\n",
        "{\n",
        "  color: #1111AA;\n",
        "  line-height: 1.2;\n",
        "  margin: 0.15em 0em 0.5em;\n",
        "  page-break-before: always;\n",
        "  text-align: center;\n",
        "  }\n",
        "\n",
        "\n",
        ".rendered_html h2\n",
        "{\n",
        "  color: #111133;\n",
        "  line-height: 1.2;\n",
        "  margin: 1.1em 0em 0.5em;\n",
        "  text-align: center;\n",
        "  }\n",
        "\n",
        ".rendered_html h3\n",
        "{\n",
        "  font-size: 100%;\n",
        "  line-height: 1.2;\n",
        "  margin: 1.1em 0em 0.5em;\n",
        "  }\n",
        "\n",
        ".rendered_html h5\n",
        "{\n",
        "  font-size: 50%;\n",
        "  line-height: 1;\n",
        "  margin: 0.3em 0em 0.3em;\n",
        "  font-weight: bold;\n",
        "  text-align: center;\n",
        "  }\n",
        "\n",
        ".rendered_html h6\n",
        "{\n",
        "  font-size: 50%;\n",
        "  line-height: 1;\n",
        "  margin: 0.3em 0em 0.3em;\n",
        "  font-weight: normal;\n",
        "  text-align: center;\n",
        "  }\n",
        "\n",
        ".rendered_html li\n",
        "{\n",
        "  line-height: 1.8;\n",
        "  }\n",
        "\n",
        ".input_prompt, .CodeMirror-lines, .output_area\n",
        "{\n",
        "  font-family: Consolas;\n",
        "  font-size: 120%;\n",
        "  }\n",
        "\n",
        ".gap-above\n",
        "{\n",
        "  padding-top: 200px;\n",
        "  }\n",
        "\n",
        ".gap01\n",
        "{\n",
        "  padding-top: 10px;\n",
        "  }\n",
        "\n",
        ".gap05\n",
        "{\n",
        "  padding-top: 50px;\n",
        "  }\n",
        "\n",
        ".gap1\n",
        "{\n",
        "  padding-top: 100px;\n",
        "  }\n",
        "\n",
        ".gap2\n",
        "{\n",
        "  padding-top: 200px;\n",
        "  }\n",
        "\n",
        ".gap3\n",
        "{\n",
        "  padding-top: 300px;\n",
        "  }\n",
        "\n",
        ".emph\n",
        "{\n",
        "  color: #386BBC;\n",
        "  }\n",
        "\n",
        ".strike\n",
        "{\n",
        "  text-decoration:line-through;\n",
        "  color: #94B8F3;\n",
        "  }\n",
        "\n",
        ".warn\n",
        "{\n",
        "  color: red;\n",
        "  }\n",
        "\n",
        ".center\n",
        "{\n",
        "  text-align: center;\n",
        "  }\n",
        "\n",
        ".nb_link\n",
        "{\n",
        "    padding-bottom: 0.5em;\n",
        "}\n",
        "\n",
        "table.mytable\n",
        "{\n",
        "    border: 0px;\n",
        "}\n",
        "\n",
        ".mytable tbody\n",
        "{\n",
        "    border: 0px;\n",
        "}\n",
        "\n",
        ".mytable td\n",
        "{\n",
        "    border: 0px;\n",
        "}\n",
        "\n",
        ".mytable tr\n",
        "{\n",
        "    border: 0px;\n",
        "}\n",
        "\n",
        "</style>\n"
       ],
       "metadata": {},
       "output_type": "display_data",
       "text": [
        "<IPython.core.display.HTML object>"
       ]
      }
     ],
     "prompt_number": 1
    },
    {
     "cell_type": "markdown",
     "metadata": {
      "slideshow": {
       "slide_type": "slide"
      }
     },
     "source": [
      "## Data Visualization: just graphics are not enough\n",
      "\n",
      "What is the problem here?\n",
      "\n",
      "<img src=\"images/obamacare-fox.jpg\">\n",
      "\n",
      "(source: [media matters](http://mediamatters.org/blog/2014/03/31/dishonest-fox-charts-obamacare-enrollment-editi/198679))"
     ]
    },
    {
     "cell_type": "markdown",
     "metadata": {
      "slideshow": {
       "slide_type": "slide"
      }
     },
     "source": [
      "How about here?\n",
      "\n",
      "<img src=\"images/revenue.png\" width=\"70%\">\n",
      "\n",
      "(source: [wtf vz](http://wtfviz.net/))"
     ]
    },
    {
     "cell_type": "markdown",
     "metadata": {
      "slideshow": {
       "slide_type": "slide"
      }
     },
     "source": [
      "How about this?\n",
      "\n",
      "<img src=\"images/bechdel.png\">\n",
      "\n",
      "(source: [fivethirtyeight](http://fivethirtyeight.com/features/the-dollar-and-cents-case-against-hollywoods-exclusion-of-women/))"
     ]
    },
    {
     "cell_type": "markdown",
     "metadata": {
      "slideshow": {
       "slide_type": "slide"
      }
     },
     "source": [
      "## The Bechdel Test\n",
      "\n",
      "In order for female characters to have depth...\n",
      "\n",
      "<table class=\"mytable\">\n",
      "<tr>\n",
      "<td>\n",
      "<a href=\"http://www.npr.org/templates/story/story.php?storyId=94202522\"><img src=\"images/bechdel-strip.jpg\" height=150></a>\n",
      "</td>\n",
      "<td>\n",
      "<ol>\n",
      "<li> Film must have at least two women\n",
      "<li> The women must have names\n",
      "<li> The women must have a conversation at some point\n",
      "<li> That conversation is not about the men\n",
      "</ol>\n",
      "</td>\n",
      "</tr>\n",
      "</table>"
     ]
    },
    {
     "cell_type": "markdown",
     "metadata": {
      "slideshow": {
       "slide_type": "slide"
      }
     },
     "source": [
      "## What's wrong with the FiveThirtyEight graph?\n",
      "\n",
      "<p class=\"gap1\"></p>\n",
      "<center>\n",
      "Probably nothing, but *how can we know that?*\n",
      "</center>\n",
      "<p class=\"gap05\"></p>\n",
      "<center>\n",
      "Given the importance and influence of data-heavy media sources like FiveThirtyEight (especially when they address important topics like elections, climate change, gender issues, etc.) shouldn't we expect a higher bar?\n",
      "</center>\n",
      "<p class=\"gap1\"></p>"
     ]
    },
    {
     "cell_type": "markdown",
     "metadata": {
      "slideshow": {
       "slide_type": "slide"
      }
     },
     "source": [
      "## Blog Post by Brian Keegan\n",
      "\n",
      "[The Need for Openness in Data Journalism](http://www.brianckeegan.com/2014/04/the-need-for-openness-in-data-journalism/)\n",
      "\n",
      "Thesis: journalists should subject themselves to the same **reproducibility and openness** standards as scientist.\n",
      "\n",
      "Keegan: *\"I have found this \u201cnew\u201d brand of data journalism disappointing foremost because it wants to perform science without abiding by scientific norms.\"*\n",
      "\n",
      "<p class=\"gap1\"></p>"
     ]
    },
    {
     "cell_type": "markdown",
     "metadata": {
      "slideshow": {
       "slide_type": "slide"
      }
     },
     "source": [
      "## Brian's Response to this post\n",
      "\n",
      "Walking the walk..."
     ]
    },
    {
     "cell_type": "code",
     "collapsed": false,
     "input": [
      "from IPython.display import IFrame\n",
      "IFrame(\"http://nbviewer.ipython.org/github/brianckeegan/Bechdel/blob/master/Bechdel_test.ipynb\", 800, 600)"
     ],
     "language": "python",
     "metadata": {},
     "outputs": [
      {
       "html": [
        "\n",
        "        <iframe\n",
        "            width=\"800\"\n",
        "            height=600\"\n",
        "            src=\"http://nbviewer.ipython.org/github/brianckeegan/Bechdel/blob/master/Bechdel_test.ipynb\"\n",
        "            frameborder=\"0\"\n",
        "            allowfullscreen\n",
        "        ></iframe>\n",
        "        "
       ],
       "metadata": {},
       "output_type": "pyout",
       "prompt_number": 2,
       "text": [
        "<IPython.lib.display.IFrame at 0x106629550>"
       ]
      }
     ],
     "prompt_number": 2
    },
    {
     "cell_type": "markdown",
     "metadata": {},
     "source": [
      "To their credit, FiveThirtyEight [responded](http://fivethirtyeight.com/datalab/the-bechdel-test-checking-our-work/) and [put their data on GitHub](https://github.com/fivethirtyeight)."
     ]
    },
    {
     "cell_type": "markdown",
     "metadata": {
      "slideshow": {
       "slide_type": "slide"
      }
     },
     "source": [
      "## This is the IPython notebook\n",
      "\n",
      "Combination of Markdown, Math, Code, Visualizations, and more into a single *executable* document.\n",
      "\n",
      "### We can embed, and execute, blocks of code:"
     ]
    },
    {
     "cell_type": "code",
     "collapsed": false,
     "input": [
      "def fibonacci():\n",
      "    a, b = 0, 1\n",
      "    while True:\n",
      "        yield a\n",
      "        a, b = b, a + b\n",
      "\n",
      "for i, f in enumerate(fibonacci()):\n",
      "    print f,\n",
      "    if i > 35:\n",
      "        break"
     ],
     "language": "python",
     "metadata": {},
     "outputs": [
      {
       "output_type": "stream",
       "stream": "stdout",
       "text": [
        "0 1 1 2 3 5 8 13 21 34 55 89 144 233 377 610 987 1597 2584 4181 6765 10946 17711 28657 46368 75025 121393 196418 317811 514229 832040 1346269 2178309 3524578 5702887 9227465 14930352\n"
       ]
      }
     ],
     "prompt_number": 3
    },
    {
     "cell_type": "markdown",
     "metadata": {
      "slideshow": {
       "slide_type": "slide"
      }
     },
     "source": [
      "### We can write paragraphs of text\n",
      "\n",
      "Lorem ipsum dolor sit amet, consectetur adipisicing elit, sed do eiusmod tempor incididunt ut labore et dolore magna aliqua. Ut enim ad minim veniam, quis nostrud exercitation ullamco laboris nisi ut aliquip ex ea commodo consequat. Duis aute irure dolor in reprehenderit in voluptate velit esse cillum dolore eu fugiat nulla pariatur. Excepteur sint occaecat cupidatat non proident, sunt in culpa qui officia deserunt mollit anim id est laborum.\n",
      "\n",
      "### We can write math using TeX\n",
      "\n",
      "$$ \\int x^n \\exp[-x]dx =  \\Gamma(n + 1, x)$$\n",
      "\n",
      "### We can write lists\n",
      "\n",
      "- Lorem ipsum dolor sit amet\n",
      "- consectetur adipisicing elit\n",
      "- sed do eiusmod tempor incididunt\n",
      "- ut labore et dolore magna aliqua\n",
      "\n",
      "### We can embed static figures\n",
      "\n",
      "<img src=\"images/bechdel.png\" width=\"30%\">"
     ]
    },
    {
     "cell_type": "markdown",
     "metadata": {
      "slideshow": {
       "slide_type": "slide"
      }
     },
     "source": [
      "## More importantly\n",
      "\n",
      "### we can embed dynamically figures *with* the generating code"
     ]
    },
    {
     "cell_type": "code",
     "collapsed": false,
     "input": [
      "import matplotlib.pyplot as plt\n",
      "import numpy as np\n",
      "\n",
      "x, y = np.random.normal(size=(2, 100))\n",
      "s, c = np.random.random(size=(2, 100))\n",
      "\n",
      "plt.scatter(x, y, c=c, s=1000 * s, alpha=0.3);"
     ],
     "language": "python",
     "metadata": {},
     "outputs": [
      {
       "metadata": {},
       "output_type": "display_data",
       "png": "[encoded data removed]",
       "text": [
        "<matplotlib.figure.Figure at 0x106275f90>"
       ]
      }
     ],
     "prompt_number": 4
    },
    {
     "cell_type": "markdown",
     "metadata": {
      "slideshow": {
       "slide_type": "slide"
      }
     },
     "source": [
      "## The core viz tool: matplotlib\n",
      "\n",
      "Lots of visualization types are available: e.g. [matplotlib gallery](http://matplotlib.org/gallery)"
     ]
    },
    {
     "cell_type": "code",
     "collapsed": false,
     "input": [
      "# %load http://matplotlib.org/mpl_examples/mplot3d/bars3d_demo.py"
     ],
     "language": "python",
     "metadata": {},
     "outputs": [],
     "prompt_number": 5
    },
    {
     "cell_type": "code",
     "collapsed": false,
     "input": [
      "from mpl_toolkits.mplot3d import Axes3D\n",
      "import matplotlib.pyplot as plt\n",
      "import numpy as np\n",
      "\n",
      "fig = plt.figure()\n",
      "ax = fig.add_subplot(111, projection='3d')\n",
      "for c, z in zip(['r', 'g', 'b', 'y'], [30, 20, 10, 0]):\n",
      "    xs = np.arange(20)\n",
      "    ys = np.random.rand(20)\n",
      "\n",
      "    # You can provide either a single color or an array. To demonstrate this,\n",
      "    # the first bar of each set will be colored cyan.\n",
      "    cs = [c] * len(xs)\n",
      "    cs[0] = 'c'\n",
      "    ax.bar(xs, ys, zs=z, zdir='y', color=cs, alpha=0.8)\n",
      "\n",
      "ax.set_xlabel('X')\n",
      "ax.set_ylabel('Y')\n",
      "ax.set_zlabel('Z')\n",
      "\n",
      "plt.show()"
     ],
     "language": "python",
     "metadata": {},
     "outputs": [
      {
       "metadata": {},
       "output_type": "display_data",
       "png": "[encoded data removed]",
       "text": [
        "<matplotlib.figure.Figure at 0x10663f150>"
       ]
      }
     ],
     "prompt_number": 6
    },
    {
     "cell_type": "markdown",
     "metadata": {
      "slideshow": {
       "slide_type": "slide"
      }
     },
     "source": [
      "## Notebooks can be shared online\n",
      "\n",
      "IPython's \"nbviewer\" website: [http://nbviewer.ipython.org](http://nbviewer.ipython.org)"
     ]
    },
    {
     "cell_type": "code",
     "collapsed": false,
     "input": [
      "from IPython.display import IFrame\n",
      "IFrame(\"http://nbviewer.ipython.org\", 800, 600)"
     ],
     "language": "python",
     "metadata": {},
     "outputs": [
      {
       "html": [
        "\n",
        "        <iframe\n",
        "            width=\"800\"\n",
        "            height=600\"\n",
        "            src=\"http://nbviewer.ipython.org\"\n",
        "            frameborder=\"0\"\n",
        "            allowfullscreen\n",
        "        ></iframe>\n",
        "        "
       ],
       "metadata": {},
       "output_type": "pyout",
       "prompt_number": 7,
       "text": [
        "<IPython.lib.display.IFrame at 0x106644450>"
       ]
      }
     ],
     "prompt_number": 7
    },
    {
     "cell_type": "markdown",
     "metadata": {
      "slideshow": {
       "slide_type": "slide"
      }
     },
     "source": [
      "## Many people use IPython to blog as well\n",
      "\n",
      "Here is an example from my own blog: a post written in IPython notebook and published to the web"
     ]
    },
    {
     "cell_type": "code",
     "collapsed": false,
     "input": [
      "IFrame(\"http://jakevdp.github.io/blog/2013/08/28/understanding-the-fft/\", 800, 600)"
     ],
     "language": "python",
     "metadata": {},
     "outputs": [
      {
       "html": [
        "\n",
        "        <iframe\n",
        "            width=\"800\"\n",
        "            height=600\"\n",
        "            src=\"http://jakevdp.github.io/blog/2013/08/28/understanding-the-fft/\"\n",
        "            frameborder=\"0\"\n",
        "            allowfullscreen\n",
        "        ></iframe>\n",
        "        "
       ],
       "metadata": {},
       "output_type": "pyout",
       "prompt_number": 8,
       "text": [
        "<IPython.lib.display.IFrame at 0x1066447d0>"
       ]
      }
     ],
     "prompt_number": 8
    },
    {
     "cell_type": "markdown",
     "metadata": {
      "slideshow": {
       "slide_type": "slide"
      }
     },
     "source": [
      "## Notebooks can even be viewed as SlideShows\n",
      "\n",
      "<p class=\"gap1\"></p>\n",
      "\n",
      "<img src=\"images/xkcd_hat.jpeg\">\n",
      "<center>(I'm So Meta, Even This Acronymn)</center>\n",
      "\n",
      "<p class=\"gap1\"></p>"
     ]
    },
    {
     "cell_type": "markdown",
     "metadata": {
      "slideshow": {
       "slide_type": "slide"
      }
     },
     "source": [
      "## So What Is IPython?\n",
      "\n",
      "### *\"Tools for the entire lifecycle of a scientific idea\"*\n",
      "\n",
      "- From **exploration** to **collaboration** to **publication** to **reproduction of results**.\n",
      "\n",
      "- Code + Description + Data + Visualization in one place = True Openness and Reproducibility!\n",
      "\n",
      "### Picking on Nate Silver again...\n",
      "\n",
      "- [2012 FiveThirtyEight Election re-analysis](http://nbviewer.ipython.org/github/jseabold/538model/blob/master/silver_model.ipynb) by Skipper Seabold\n",
      "\n",
      "### Many more notebooks to explore\n",
      "\n",
      "- [Gallery of Interesting Notebooks](https://github.com/ipython/ipython/wiki/A-gallery-of-interesting-IPython-Notebooks)"
     ]
    },
    {
     "cell_type": "markdown",
     "metadata": {
      "slideshow": {
       "slide_type": "slide"
      }
     },
     "source": [
      "## IPython Architecture\n",
      "\n",
      "<img src=\"images/ipkernel_clients.png\" width=\"40%\">\n",
      "\n",
      "Message passing is *kernel agnostic*\n",
      "\n",
      "Client view is *browser-based*"
     ]
    },
    {
     "cell_type": "markdown",
     "metadata": {
      "slideshow": {
       "slide_type": "slide"
      }
     },
     "source": [
      "## JS-enabled Frontend gives us *huge* flexibility\n",
      "\n",
      "That is, we can create simple Python scripts that display javascript results:"
     ]
    },
    {
     "cell_type": "code",
     "collapsed": false,
     "input": [
      "from intfact import factorizer\n",
      "factorizer()"
     ],
     "language": "python",
     "metadata": {},
     "outputs": [
      {
       "javascript": [
        "require([\"//cdnjs.cloudflare.com/ajax/libs/d3/3.4.1/d3.min.js\",\n",
        "         \"widgets/js/widget\"], function(d3, WidgetManager){\n",
        "\n",
        "    // Define the D3ForceDirectedGraphView\n",
        "    var D3ForceDirectedGraphView = IPython.DOMWidgetView.extend({\n",
        "        \n",
        "        render: function(){\n",
        "            this.guid = 'd3force' + IPython.utils.uuid();\n",
        "            this.setElement($('<div />', {id: this.guid}));\n",
        "            \n",
        "            this.model.on('msg:custom', this.on_msg, this);\n",
        "            this.has_drawn = false;\n",
        "            \n",
        "            // Wait for element to be added to the DOM\n",
        "            var that = this;\n",
        "            setTimeout(function() {\n",
        "                that.update();\n",
        "            }, 0);\n",
        "        },\n",
        "        \n",
        "        try_add_node: function(id){\n",
        "            var index = this.find_node(id);\n",
        "            if (index == -1) {\n",
        "                var node = {id: id};\n",
        "                this.nodes.push(node);\n",
        "                return node;\n",
        "            } else {\n",
        "                return this.nodes[index];\n",
        "            }\n",
        "        },\n",
        "        \n",
        "        update_node: function(node, attributes) {\n",
        "            if (node !== null) {\n",
        "                for (var key in attributes) {\n",
        "                    node[key] = attributes[key];\n",
        "                }\n",
        "                this._update_circle(d3.select('#' + this.guid + node.id));\n",
        "                this._update_text(d3.select('#' + this.guid + node.id + '-text'));\n",
        "            }\n",
        "        },\n",
        "                \n",
        "        remove_node: function(id){\n",
        "            this.remove_links_to(id);\n",
        "            \n",
        "            var found_index = this.find_node(id);\n",
        "            if (found_index>=0) {\n",
        "                this.nodes.splice(found_index, 1);\n",
        "            }\n",
        "        },\n",
        "        \n",
        "        find_node: function(id){\n",
        "            var found_index = -1;\n",
        "            for (var index in this.nodes) {\n",
        "                if (this.nodes[index].id == id) {\n",
        "                    found_index = index;\n",
        "                    break;\n",
        "                }\n",
        "            }\n",
        "            return found_index;\n",
        "        },\n",
        "        \n",
        "        find_link: function(source_id, target_id){\n",
        "            for (var index in this.links) {\n",
        "                if (this.links[index].source.id == source_id && this.links[index].target.id == target_id) {\n",
        "                    return index;\n",
        "                }\n",
        "            }\n",
        "            return -1;\n",
        "        },\n",
        "        \n",
        "        try_add_link: function(source_id, target_id){\n",
        "            var index = this.find_link(source_id, target_id);\n",
        "            if (index == -1) {\n",
        "                var source_node = this.try_add_node(source_id);\n",
        "                var target_node = this.try_add_node(target_id);\n",
        "                var new_link = {source: source_node, target: target_node};\n",
        "                this.links.push(new_link);\n",
        "                return new_link;\n",
        "            } else {\n",
        "                return this.links[index]\n",
        "            }\n",
        "        },\n",
        "        \n",
        "        update_link: function(link, attributes){\n",
        "            if (link != null) {\n",
        "                for (var key in attributes) {\n",
        "                    link[key] = attributes[key];\n",
        "                }\n",
        "                this._update_edge(d3.select('#' + this.guid + link.source.id + \"-\" + link.target.id));\n",
        "            }\n",
        "        },\n",
        "        \n",
        "        remove_links: function(source_id){\n",
        "            var found_indicies = [];\n",
        "            for (var index in this.links) {\n",
        "                if (this.links[index].source.id == source_id) {\n",
        "                    found_indicies.push(index);\n",
        "                }\n",
        "            }\n",
        "            found_indicies.reverse();\n",
        "            \n",
        "            for (var index in found_indicies) {\n",
        "                this.links.splice(index, 1);\n",
        "            };\n",
        "        },\n",
        "        \n",
        "        remove_links_to: function(id){\n",
        "            var found_indicies = [];\n",
        "            for (var index in this.links) {\n",
        "                if (this.links[index].source.id == id || this.links[index].target.id == id) {\n",
        "                    found_indicies.push(index);\n",
        "                }\n",
        "            }\n",
        "            found_indicies.reverse();\n",
        "            \n",
        "            for (var index in found_indicies) {\n",
        "                this.links.splice(index, 1);\n",
        "            };\n",
        "        },\n",
        "        \n",
        "        on_msg: function(content){\n",
        "            this.update();\n",
        "            \n",
        "            var dict = content.dict;\n",
        "            var action = content.action;\n",
        "            var key = content.key;\n",
        "            \n",
        "            if (dict=='node') {\n",
        "                if (action=='add' || action=='set') {\n",
        "                    this.update_node(this.try_add_node(key), content.value)\n",
        "                } else if (action=='del') {\n",
        "                    this.remove_node(key);\n",
        "                }\n",
        "                \n",
        "            } else if (dict=='adj') {\n",
        "                if (action=='add' || action=='set') {\n",
        "                    var links = content.value;\n",
        "                    for (var target_id in links) {\n",
        "                        this.update_link(this.try_add_link(key, target_id), links[target_id]);\n",
        "                    }\n",
        "                } else if (action=='del') {\n",
        "                    this.remove_links(key);\n",
        "                }\n",
        "            }\n",
        "            this.start();\n",
        "        },\n",
        "        \n",
        "        start: function() {\n",
        "            var node = this.svg.selectAll(\".gnode\"),\n",
        "                link = this.svg.selectAll(\".link\");\n",
        "            \n",
        "            var link = link.data(this.force.links(), function(d) { return d.source.id + \"-\" + d.target.id; });\n",
        "            this._update_edge(link.enter().insert(\"line\", \".gnode\"))\n",
        "            link.exit().remove();\n",
        "            \n",
        "            var node = node.data(this.force.nodes(), function(d) { return d.id;});\n",
        "            var that = this;\n",
        "\n",
        "            var gnode = node.enter()\n",
        "                .append(\"g\")\n",
        "                .attr('class', 'gnode')\n",
        "                .call(this.force.drag);\n",
        "            this._update_circle(gnode.append(\"circle\"));\n",
        "            this._update_text(gnode.append(\"text\"));\n",
        "            node.exit().remove();\n",
        "            \n",
        "            this.force.start();\n",
        "        },\n",
        "\n",
        "        _update_circle: function(circle) {\n",
        "            var that = this;\n",
        "\n",
        "            circle\n",
        "                .attr(\"id\", function(d) { return that.guid + d.id; })\n",
        "                .attr(\"class\", function(d) { return \"node \" + d.id; })\n",
        "                .attr(\"r\", function(d) {\n",
        "                    if (d.r == undefined) {\n",
        "                        return 8; \n",
        "                    } else {\n",
        "                        return d.r;\n",
        "                    }\n",
        "                    \n",
        "                })\n",
        "                .style(\"fill\", function(d) {\n",
        "                    if (d.fill == undefined) {\n",
        "                        return that.color(d.group); \n",
        "                    } else {\n",
        "                        return d.fill;\n",
        "                    }\n",
        "                    \n",
        "                })\n",
        "                .style(\"stroke\", function(d) {\n",
        "                    if (d.stroke == undefined) {\n",
        "                        return \"#FFF\"; \n",
        "                    } else {\n",
        "                        return d.stroke;\n",
        "                    }\n",
        "                    \n",
        "                })\n",
        "                .style(\"stroke-width\", function(d) {\n",
        "                    if (d.strokewidth == undefined) {\n",
        "                        return \"#FFF\"; \n",
        "                    } else {\n",
        "                        return d.strokewidth;\n",
        "                    }\n",
        "                    \n",
        "                })\n",
        "                .attr('dx', 0)\n",
        "                .attr('dy', 0);\n",
        "        },\n",
        "        \n",
        "        _update_text: function(text) {\n",
        "            var that = this;\n",
        "\n",
        "            text\n",
        "                .attr(\"id\", function(d) { return that.guid + d.id + '-text'; })\n",
        "                .text(function(d) { \n",
        "                    if (d.label) {\n",
        "                        return  d.label;\n",
        "                    } else {\n",
        "                        return '';\n",
        "                    }\n",
        "                })\n",
        "                .style(\"font-size\",function(d) { \n",
        "                    if (d.font_size) {\n",
        "                        return  d.font_size;\n",
        "                    } else {\n",
        "                        return '11pt';\n",
        "                    }\n",
        "                })\n",
        "                .attr(\"text-anchor\", \"middle\")\n",
        "                .style(\"fill\", function(d) { \n",
        "                    if (d.color) {\n",
        "                        return  d.color;\n",
        "                    } else {\n",
        "                        return 'white';\n",
        "                    }\n",
        "                })\n",
        "                .attr('dx', function(d) { \n",
        "                    if (d.dx) {\n",
        "                        return  d.dx;\n",
        "                    } else {\n",
        "                        return 0;\n",
        "                    }\n",
        "                })\n",
        "                .attr('dy', function(d) { \n",
        "                    if (d.dy) {\n",
        "                        return  d.dy;\n",
        "                    } else {\n",
        "                        return 5;\n",
        "                    }\n",
        "                })\n",
        "                .style(\"pointer-events\", 'none');\n",
        "        },\n",
        "        \n",
        "        _update_edge: function(edge) {\n",
        "            var that = this;\n",
        "            edge\n",
        "                .attr(\"id\", function(d) { return that.guid + d.source.id + \"-\" + d.target.id; })\n",
        "                .attr(\"class\", \"link\")\n",
        "                .style(\"stroke-width\", function(d) {\n",
        "                    if (d.strokewidth == undefined) {\n",
        "                        return \"1.5px\"; \n",
        "                    } else {\n",
        "                        return d.strokewidth;\n",
        "                    }\n",
        "                    \n",
        "                })\n",
        "                .style('stroke', function(d) {\n",
        "                    if (d.stroke == undefined) {\n",
        "                        return \"#999\"; \n",
        "                    } else {\n",
        "                        return d.stroke;\n",
        "                    }\n",
        "                    \n",
        "                });\n",
        "        },\n",
        "        \n",
        "        tick: function() {\n",
        "            var gnode = this.svg.selectAll(\".gnode\"),\n",
        "                link = this.svg.selectAll(\".link\");\n",
        "            \n",
        "            link.attr(\"x1\", function(d) { return d.source.x; })\n",
        "                .attr(\"y1\", function(d) { return d.source.y; })\n",
        "                .attr(\"x2\", function(d) { return d.target.x; })\n",
        "                .attr(\"y2\", function(d) { return d.target.y; });\n",
        "\n",
        "            // Translate the groups\n",
        "            gnode.attr(\"transform\", function(d) { return \"translate(\" + d.x + \",\" + d.y + \")\"; });  \n",
        "        },\n",
        "        \n",
        "        update: function(){\n",
        "            if (!this.has_drawn) {\n",
        "                this.has_drawn = true;\n",
        "                var width = this.model.get('width'),\n",
        "                    height = this.model.get('height');\n",
        "                \n",
        "                this.color = d3.scale.category20();\n",
        "                \n",
        "                this.nodes = [];\n",
        "                this.links = [];\n",
        "                \n",
        "                var that = this;\n",
        "                this.force = d3.layout.force()\n",
        "                    .nodes(this.nodes)\n",
        "                    .links(this.links)\n",
        "                    .charge(function (d) {\n",
        "                        if (d.charge === undefined) {\n",
        "                            return -280;\n",
        "                        } else {\n",
        "                            return d.charge;\n",
        "                        }\n",
        "                    })\n",
        "                    .linkDistance(function (d) {\n",
        "                        if (d.distance === undefined) {\n",
        "                            return 30;\n",
        "                        } else {\n",
        "                            return d.distance;\n",
        "                        }\n",
        "                    })\n",
        "                    .linkStrength(function (d) {\n",
        "                        if (d.strength === undefined) {\n",
        "                            return 0.3;\n",
        "                        } else {\n",
        "                            return d.strength;\n",
        "                        }\n",
        "                    })\n",
        "                    .size([width, height])\n",
        "                    .on(\"tick\", $.proxy(this.tick, this));\n",
        "                \n",
        "                this.svg = d3.select(\"#\" + this.guid).append(\"svg\")\n",
        "                    .attr(\"width\", width)\n",
        "                    .attr(\"height\", height);\n",
        "            }\n",
        "\n",
        "            var that = this;\n",
        "            setTimeout(function() {\n",
        "                that.start();\n",
        "            }, 0);\n",
        "            return D3ForceDirectedGraphView.__super__.update.apply(this);\n",
        "        },\n",
        "        \n",
        "    });\n",
        "        \n",
        "    // Register the D3ForceDirectedGraphView with the widget manager.\n",
        "    WidgetManager.register_widget_view('D3ForceDirectedGraphView', D3ForceDirectedGraphView);\n",
        "});\n"
       ],
       "metadata": {},
       "output_type": "display_data",
       "text": [
        "<IPython.core.display.Javascript object>"
       ]
      }
     ],
     "prompt_number": 9
    },
    {
     "cell_type": "markdown",
     "metadata": {},
     "source": [
      "(thanks to Brian Granger and Jon Frederic)\n",
      "\n",
      "We'll see more of this later..."
     ]
    },
    {
     "cell_type": "markdown",
     "metadata": {
      "slideshow": {
       "slide_type": "slide"
      }
     },
     "source": [
      "## IPython is not just for Python...\n",
      "\n",
      "The Kernel/message passing system is generic enough to **not need Python!**\n",
      "\n",
      "Via *language magics* and *language kernels*, the notebook can be used with an ever-expanding list of programming languages!\n",
      "\n",
      "- [Example: Julia Language](JuliaMagic.ipynb)"
     ]
    }
   ],
   "metadata": {}
  }
 ]
}