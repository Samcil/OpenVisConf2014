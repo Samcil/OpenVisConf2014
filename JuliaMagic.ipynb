{
 "metadata": {
  "celltoolbar": "Slideshow",
  "name": "",
  "signature": "sha256:b90041d904fe18ac67ec204ba2bff4820247c074149bb8de82308c11e3f73828"
 },
 "nbformat": 3,
 "nbformat_minor": 0,
 "worksheets": [
  {
   "cells": [
    {
     "cell_type": "markdown",
     "metadata": {
      "slideshow": {
       "slide_type": "slide"
      }
     },
     "source": [
      "## IPython is not just for Python...\n",
      "\n",
      "Example: Julia Language! \n",
      "\n",
      "<img src=\"images/julia.jpeg\", width=\"30%\">\n",
      "\n",
      "<small>(thanks to Fernando Perez for providing the examples below)</small>\n"
     ]
    },
    {
     "cell_type": "code",
     "collapsed": false,
     "input": [
      "%matplotlib inline\n",
      "%run talktools"
     ],
     "language": "python",
     "metadata": {
      "slideshow": {
       "slide_type": "skip"
      }
     },
     "outputs": [
      {
       "html": [
        "<style>\n",
        "/*\n",
        "   Simple CSS styling for using IPython Notebooks for talks.\n",
        "\n",
        "   Author: Fernando Perez <fernando.perez@berkeley.edu>\n",
        "*/\n",
        "\n",
        "talk-title\n",
        "{\n",
        "  color: #111133;\n",
        "  font-size: 220%;\n",
        "  font-weight:bold;\n",
        "  line-height: 1.2;\n",
        "  margin: 10px 50px 10px;\n",
        "  }\n",
        "\n",
        "talk-subtitle\n",
        "{\n",
        "  color: #111155;\n",
        "  font-size: 150%;\n",
        "  font-weight:bold;\n",
        "  line-height: 1.2;\n",
        "  margin: 20px 50px 20px;\n",
        "  text-align: center;\n",
        "  }\n",
        "\n",
        ".slide-header, p.slide-header\n",
        "{\n",
        "  color: #498AF3;\n",
        "  font-size: 180%;\n",
        "  font-weight:bold;\n",
        "  margin: 0px 20px 10px;\n",
        "  page-break-before: always;\n",
        "  text-align: center;\n",
        "  }\n",
        "\n",
        ".rendered_html\n",
        "{\n",
        "  color: #2C5494;\n",
        "  font-family: Ubuntu;\n",
        "  font-size: 170%;\n",
        "  line-height: 1.1;\n",
        "  margin: 0.5em 0;\n",
        "  }\n",
        "\n",
        ".rendered_html h1\n",
        "{\n",
        "  color: #1111AA;\n",
        "  line-height: 1.2;\n",
        "  margin: 0.15em 0em 0.5em;\n",
        "  page-break-before: always;\n",
        "  text-align: center;\n",
        "  }\n",
        "\n",
        "\n",
        ".rendered_html h2\n",
        "{\n",
        "  color: #111133;\n",
        "  line-height: 1.2;\n",
        "  margin: 1.1em 0em 0.5em;\n",
        "  text-align: center;\n",
        "  }\n",
        "\n",
        ".rendered_html h3\n",
        "{\n",
        "  font-size: 100%;\n",
        "  line-height: 1.2;\n",
        "  margin: 1.1em 0em 0.5em;\n",
        "  }\n",
        "\n",
        ".rendered_html h5\n",
        "{\n",
        "  font-size: 50%;\n",
        "  line-height: 1;\n",
        "  margin: 0.3em 0em 0.3em;\n",
        "  font-weight: bold;\n",
        "  text-align: center;\n",
        "  }\n",
        "\n",
        ".rendered_html h6\n",
        "{\n",
        "  font-size: 50%;\n",
        "  line-height: 1;\n",
        "  margin: 0.3em 0em 0.3em;\n",
        "  font-weight: normal;\n",
        "  text-align: center;\n",
        "  }\n",
        "\n",
        ".rendered_html li\n",
        "{\n",
        "  line-height: 1.8;\n",
        "  }\n",
        "\n",
        ".input_prompt, .CodeMirror-lines, .output_area\n",
        "{\n",
        "  font-family: Consolas;\n",
        "  font-size: 120%;\n",
        "  }\n",
        "\n",
        ".gap-above\n",
        "{\n",
        "  padding-top: 200px;\n",
        "  }\n",
        "\n",
        ".gap01\n",
        "{\n",
        "  padding-top: 10px;\n",
        "  }\n",
        "\n",
        ".gap05\n",
        "{\n",
        "  padding-top: 50px;\n",
        "  }\n",
        "\n",
        ".gap1\n",
        "{\n",
        "  padding-top: 100px;\n",
        "  }\n",
        "\n",
        ".gap2\n",
        "{\n",
        "  padding-top: 200px;\n",
        "  }\n",
        "\n",
        ".gap3\n",
        "{\n",
        "  padding-top: 300px;\n",
        "  }\n",
        "\n",
        ".emph\n",
        "{\n",
        "  color: #386BBC;\n",
        "  }\n",
        "\n",
        ".strike\n",
        "{\n",
        "  text-decoration:line-through;\n",
        "  color: #94B8F3;\n",
        "  }\n",
        "\n",
        ".warn\n",
        "{\n",
        "  color: red;\n",
        "  }\n",
        "\n",
        ".center\n",
        "{\n",
        "  text-align: center;\n",
        "  }\n",
        "\n",
        ".nb_link\n",
        "{\n",
        "    padding-bottom: 0.5em;\n",
        "}\n",
        "\n",
        "table.mytable\n",
        "{\n",
        "    border: 0px;\n",
        "}\n",
        "\n",
        ".mytable tbody\n",
        "{\n",
        "    border: 0px;\n",
        "}\n",
        "\n",
        ".mytable td\n",
        "{\n",
        "    border: 0px;\n",
        "}\n",
        "\n",
        ".mytable tr\n",
        "{\n",
        "    border: 0px;\n",
        "}\n",
        "\n",
        "</style>\n"
       ],
       "metadata": {},
       "output_type": "display_data",
       "text": [
        "<IPython.core.display.HTML object>"
       ]
      }
     ],
     "prompt_number": 1
    },
    {
     "cell_type": "heading",
     "level": 2,
     "metadata": {
      "slideshow": {
       "slide_type": "slide"
      }
     },
     "source": [
      "Using the Julia Magic"
     ]
    },
    {
     "cell_type": "code",
     "collapsed": false,
     "input": [
      "%load_ext julia.magic\n",
      "%julia @pyimport matplotlib.pyplot as plt\n",
      "%julia @pyimport numpy as np"
     ],
     "language": "python",
     "metadata": {},
     "outputs": [
      {
       "output_type": "stream",
       "stream": "stdout",
       "text": [
        "Initializing Julia interpreter. This may take some time..."
       ]
      },
      {
       "output_type": "stream",
       "stream": "stdout",
       "text": [
        "\n",
        "Running src: @pyimport matplotlib.pyplot as plt\n",
        "Ans:"
       ]
      },
      {
       "output_type": "stream",
       "stream": "stdout",
       "text": [
        " 4308254208\n",
        "Pyans (s, r): None ||| None\n",
        "Running src: @pyimport numpy as np\n",
        "Ans:"
       ]
      },
      {
       "output_type": "stream",
       "stream": "stdout",
       "text": [
        " 4308254208\n",
        "Pyans (s, r): None ||| None\n"
       ]
      }
     ],
     "prompt_number": 2
    },
    {
     "cell_type": "code",
     "collapsed": false,
     "input": [
      "%%julia\n",
      "\n",
      "# Note how we mix numpy and julia:\n",
      "t = linspace(0, 2*pi, 1000); # use the julia linspace\n",
      "s = sin(3 * t + 4 * np.cos(2 * t)); # use the numpy cosine and julia sine\n",
      "\n",
      "fig = plt.gcf()  # **** WATCH THIS VARIABLE ****\n",
      "plt.plot(t, s, color=\"red\", linewidth=2.0, linestyle=\"--\")"
     ],
     "language": "python",
     "metadata": {},
     "outputs": [
      {
       "output_type": "stream",
       "stream": "stdout",
       "text": [
        "Running src: \n",
        "# Note how we mix numpy and julia:\n",
        "t = linspace(0, 2*pi, 1000); # use the julia linspace\n",
        "s = sin(3 * t + 4 * np.cos(2 * t)); # use the numpy cosine and julia sine\n",
        "\n",
        "fig = plt.gcf()  # **** WATCH THIS VARIABLE ****\n",
        "plt.plot(t, s, color=\"red\", linewidth=2.0, linestyle=\"--\")\n",
        "Ans:"
       ]
      },
      {
       "output_type": "stream",
       "stream": "stdout",
       "text": [
        " 4578914432\n",
        "Pyans (s, r): [<matplotlib.lines.Line2D object at 0x114f6ae90>] ||| [<matplotlib.lines.Line2D object at 0x114f6ae90>]\n"
       ]
      },
      {
       "metadata": {},
       "output_type": "pyout",
       "prompt_number": 3,
       "text": [
        "[<matplotlib.lines.Line2D at 0x114f6ae90>]"
       ]
      },
      {
       "metadata": {},
       "output_type": "display_data",
       "png": "[encoded data removed]",
       "text": [
        "<matplotlib.figure.Figure at 0x106335d90>"
       ]
      }
     ],
     "prompt_number": 3
    },
    {
     "cell_type": "heading",
     "level": 2,
     "metadata": {
      "slideshow": {
       "slide_type": "slide"
      }
     },
     "source": [
      "Julia Variables can be accessed in Python!"
     ]
    },
    {
     "cell_type": "code",
     "collapsed": false,
     "input": [
      "fig = %julia fig\n",
      "fig"
     ],
     "language": "python",
     "metadata": {},
     "outputs": [
      {
       "output_type": "stream",
       "stream": "stdout",
       "text": [
        "Running src: fig\n",
        "Ans: 4577629792\n",
        "Pyans (s, r): Figure(480x320) ||| <matplotlib.figure.Figure object at 0x106335d90>\n"
       ]
      },
      {
       "metadata": {},
       "output_type": "pyout",
       "png": "[encoded data removed]",
       "prompt_number": 4,
       "text": [
        "<matplotlib.figure.Figure at 0x106335d90>"
       ]
      }
     ],
     "prompt_number": 4
    },
    {
     "cell_type": "heading",
     "level": 2,
     "metadata": {
      "slideshow": {
       "slide_type": "slide"
      }
     },
     "source": [
      "Getting Crazy: two-stage recursion in Python and Julia"
     ]
    },
    {
     "cell_type": "code",
     "collapsed": false,
     "input": [
      "# define a recursive julia fib function which calls Python\n",
      "fib = %julia fib(n, fib2) = n < 2 ? n : fib2(n-1, fib) + fib2(n-2, fib)\n",
      "\n",
      "    \n",
      "# define a recursive python fib function which calls Julia\n",
      "def fib2(n, fib):\n",
      "    print 'Into Python, n=',n,\n",
      "    if n < 2:\n",
      "         return n\n",
      "    print 'Out to Julia'\n",
      "    return fib(n-1, fib2) + fib(n-2, fib2)\n",
      "\n",
      "\n",
      "fib2(6, fib)"
     ],
     "language": "python",
     "metadata": {},
     "outputs": [
      {
       "output_type": "stream",
       "stream": "stdout",
       "text": [
        "Running src: fib(n, fib2) = n < 2 ? n : fib2(n-1, fib) + fib2(n-2, fib)\n",
        "Ans: 4363123264\n",
        "Pyans (s, r):"
       ]
      },
      {
       "output_type": "stream",
       "stream": "stdout",
       "text": [
        " <PyCall.jlwrap fib> ||| <PyCall.jlwrap fib>\n",
        "Into Python, n= 6 Out to Julia\n",
        "Into Python, n="
       ]
      },
      {
       "output_type": "stream",
       "stream": "stdout",
       "text": [
        " 4 Out to Julia\n",
        "Into Python, n= 2 Out to Julia\n",
        "Into Python, n= 1 Into Python, n= 1 Into Python, n= 0 Into Python, n= 3 Out to Julia\n",
        "Into Python, n= 1 Into Python, n= 0 Into Python, n= 3 Out to Julia\n",
        "Into Python, n= 1 Into Python, n= 0 Into Python, n= 2 Out to Julia\n"
       ]
      },
      {
       "metadata": {},
       "output_type": "pyout",
       "prompt_number": 5,
       "text": [
        "8"
       ]
      }
     ],
     "prompt_number": 5
    },
    {
     "cell_type": "markdown",
     "metadata": {
      "slideshow": {
       "slide_type": "slide"
      }
     },
     "source": [
      "## The Possibilities are Endless\n",
      "\n",
      "Other language magics and kernels available as well: Julia, R, Ruby, Haskell, etc.\n",
      "\n",
      "Look for the I<font color=\"#AAAAAA\">*[your language here]*</font> notebook!"
     ]
    }
   ],
   "metadata": {}
  }
 ]
}