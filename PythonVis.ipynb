{
 "metadata": {
  "celltoolbar": "Slideshow",
  "name": "",
  "signature": "sha256:def225957e1847ee10051e93a28feb380e36d426fe6fc49e8afb2edc0cf01829"
 },
 "nbformat": 3,
 "nbformat_minor": 0,
 "worksheets": [
  {
   "cells": [
    {
     "cell_type": "heading",
     "level": 1,
     "metadata": {
      "slideshow": {
       "slide_type": "slide"
      }
     },
     "source": [
      "Visualization in Python: Matplotlib and Beyond"
     ]
    },
    {
     "cell_type": "code",
     "collapsed": false,
     "input": [
      "%run talktools\n",
      "%matplotlib inline"
     ],
     "language": "python",
     "metadata": {
      "slideshow": {
       "slide_type": "skip"
      }
     },
     "outputs": []
    },
    {
     "cell_type": "heading",
     "level": 2,
     "metadata": {
      "slideshow": {
       "slide_type": "slide"
      }
     },
     "source": [
      "Matplotlib sometimes gets a bad rap..."
     ]
    },
    {
     "cell_type": "heading",
     "level": 3,
     "metadata": {},
     "source": [
      "First because of its defaults..."
     ]
    },
    {
     "cell_type": "code",
     "collapsed": false,
     "input": [
      "import numpy as np\n",
      "import matplotlib.pyplot as plt\n",
      "\n",
      "x, y = np.random.normal(size=(2, 100))\n",
      "\n",
      "fig = plt.figure(figsize=(8, 6))\n",
      "plt.plot(x, y, 'ob', ms=10)\n",
      "plt.grid(axis='y')"
     ],
     "language": "python",
     "metadata": {
      "slideshow": {
       "slide_type": "-"
      }
     },
     "outputs": []
    },
    {
     "cell_type": "markdown",
     "metadata": {
      "slideshow": {
       "slide_type": "slide"
      }
     },
     "source": [
      "## Wait... this reminds me of something..."
     ]
    },
    {
     "cell_type": "markdown",
     "metadata": {
      "slideshow": {
       "slide_type": "-"
      }
     },
     "source": [
      "<img src=\"images/excel.png\" width=\"600px\">"
     ]
    },
    {
     "cell_type": "markdown",
     "metadata": {
      "slideshow": {
       "slide_type": "-"
      }
     },
     "source": [
      "<img src=\"images/mpl.png\" width=\"500px\">\n",
      "\n",
      "See this [Excel vs. Python vs. IDL](http://www.ifweassume.com/2013/10/excel-vs-python-vs-idl.html) on the blog *If We Assume* for more side-by-side comparisons."
     ]
    },
    {
     "cell_type": "heading",
     "level": 3,
     "metadata": {
      "slideshow": {
       "slide_type": "slide"
      }
     },
     "source": [
      "Also because of its static output in the notebook..."
     ]
    },
    {
     "cell_type": "code",
     "collapsed": false,
     "input": [
      "ax = plt.axes(aspect='equal')\n",
      "ax.add_patch(plt.Circle((0.7, 0.7), radius=0.5, alpha=0.3));"
     ],
     "language": "python",
     "metadata": {},
     "outputs": []
    },
    {
     "cell_type": "markdown",
     "metadata": {
      "slideshow": {
       "slide_type": "slide"
      }
     },
     "source": [
      "## Matplotlib is old, it's static, and it has crappy defaults...\n",
      "\n",
      "But it's *really, really* comprehensive, and *really, really* battle-tested.\n",
      "\n",
      "A graphics framework needs the following:\n",
      "\n",
      "<img src=\"images/viz-components.png\">"
     ]
    },
    {
     "cell_type": "markdown",
     "metadata": {
      "slideshow": {
       "slide_type": "slide"
      }
     },
     "source": [
      "## Matplotlib does all of these\n",
      "\n",
      "<img src=\"images/viz-components.png\" width=\"30%\">\n",
      "\n",
      "- **API:** both matlab-like (stateful, terse, less powerful) and object-oriented (stateless, verbose, more powerful)\n",
      "- **Abstraction:** basically a high-powered SVG internal object model\n",
      "- **Output:**\n",
      "  + more static backends than you'd ever need: pdf, png, svg, eps, ps, pgf, jpeg...\n",
      "  + more GUI backends than you'd ever need: Tk, Agg, OSX, GTK, Qt4, WebAgg, ..."
     ]
    },
    {
     "cell_type": "markdown",
     "metadata": {
      "slideshow": {
       "slide_type": "slide"
      }
     },
     "source": [
      "## Nobody wants to re-implement all of this functionality...\n",
      "\n",
      "So why not just replace a piece of it?\n",
      "\n",
      "<table class=\"mytable\">\n",
      "    <tr>\n",
      "        <td><img src=\"images/api.png\"></td>\n",
      "        <td><ul><li>[Seaborn](http://www.stanford.edu/~mwaskom/software/seaborn/)<li>[PrettyPlotLib](http://olgabot.github.io/prettyplotlib/)<li>[ggplot-py](http://blog.yhathq.com/posts/ggplot-for-python.html)</ul></td>\n",
      "    </tr>\n",
      "    <tr>\n",
      "        <td><img src=\"images/output.png\"></td>\n",
      "        <td><ul><li>[mpld3 & mplexporter](http://mpld3.github.io)</li></ul></td>\n",
      "    </tr>\n",
      "</table>\n",
      "\n",
      "Other projects side-step matplotlib altogether: [Bokeh](http://bokeh.pydata.org), [Vincent](http://vincent.readthedocs.org/en/latest/), [bearcart](https://github.com/wrobstory/bearcart), [plotly](https://plot.ly/), etc."
     ]
    },
    {
     "cell_type": "markdown",
     "metadata": {
      "slideshow": {
       "slide_type": "slide"
      }
     },
     "source": [
      "# Replacing matplotlib's API:\n",
      "\n",
      "## Seaborn, ggplot, and PrettyPlotLib.\n",
      "\n",
      "All three packages have roughly the same goal: *create matplotlib plots without the clunky matplotlib syntax*."
     ]
    },
    {
     "cell_type": "markdown",
     "metadata": {
      "slideshow": {
       "slide_type": "slide"
      }
     },
     "source": [
      "## Seaborn\n",
      "\n",
      "http://www.stanford.edu/~mwaskom/software/seaborn/\n",
      "\n",
      "- Package by [Michael Waskom](https://twitter.com/michaelwaskom)\n",
      "\n",
      "- Includes themes and hooks for a large class of visualizations\n",
      "\n",
      "- focuses on visualization for statistical data analysis"
     ]
    },
    {
     "cell_type": "code",
     "collapsed": false,
     "input": [
      "import seaborn as sns\n",
      "\n",
      "sns.set_palette(\"deep\", desat=.6)\n",
      "np.random.seed(9221999)"
     ],
     "language": "python",
     "metadata": {},
     "outputs": []
    },
    {
     "cell_type": "markdown",
     "metadata": {
      "slideshow": {
       "slide_type": "slide"
      }
     },
     "source": [
      "Now a wide array of beautiful plots can be created with very few lines of code:"
     ]
    },
    {
     "cell_type": "code",
     "collapsed": false,
     "input": [
      "from scipy import stats\n",
      "x, y = stats.gamma(3).rvs((2, 5000))\n",
      "\n",
      "sns.jointplot(x, y, kind=\"hex\");"
     ],
     "language": "python",
     "metadata": {},
     "outputs": []
    },
    {
     "cell_type": "markdown",
     "metadata": {
      "slideshow": {
       "slide_type": "slide"
      }
     },
     "source": [
      "Seaborn has native support for DataFrame object in the [pandas](http://pandas.pydata.org) package:"
     ]
    },
    {
     "cell_type": "code",
     "collapsed": false,
     "input": [
      "import pandas as pd\n",
      "data = np.random.multivariate_normal([0, 0], [[1, 2], [2, 20]], size=1000)\n",
      "data = pd.DataFrame(data, columns=[\"X\", \"Y\"])\n",
      "\n",
      "sns.kdeplot(data);"
     ],
     "language": "python",
     "metadata": {},
     "outputs": []
    },
    {
     "cell_type": "markdown",
     "metadata": {},
     "source": [
      "Even relatively sophisticated plots can be automatically generated:"
     ]
    },
    {
     "cell_type": "code",
     "collapsed": false,
     "input": [
      "y = np.random.randn(200)\n",
      "g = np.random.choice(list(\"abcdef\"), 200)\n",
      "for i, l in enumerate(\"abcdef\"):\n",
      "    y[g == l] += i // 2\n",
      "df = pd.DataFrame(dict(score=y, group=g))\n",
      "\n",
      "sns.violinplot(df.score, df.group);"
     ],
     "language": "python",
     "metadata": {},
     "outputs": []
    },
    {
     "cell_type": "markdown",
     "metadata": {},
     "source": [
      "See many more examples at http://www.stanford.edu/~mwaskom/software/seaborn/"
     ]
    },
    {
     "cell_type": "markdown",
     "metadata": {
      "slideshow": {
       "slide_type": "slide"
      }
     },
     "source": [
      "# ggplot\n",
      "\n",
      "http://blog.yhathq.com/posts/ggplot-for-python.html\n",
      "\n",
      "- Package created by [yhat](https://yhathq.com/)\n",
      "- focuses on duplicating the API and output of R's ggplot2 library"
     ]
    },
    {
     "cell_type": "markdown",
     "metadata": {
      "slideshow": {
       "slide_type": "slide"
      }
     },
     "source": [
      "Now you can create matplotlib plots using R-like syntax:"
     ]
    },
    {
     "cell_type": "code",
     "collapsed": false,
     "input": [
      "from ggplot import *\n",
      "\n",
      "ggplot(meat, aes('date','beef')) + \\\n",
      "    geom_line(color='black') + \\\n",
      "    scale_x_date(breaks=date_breaks('7 years'), labels='%b %Y') + \\\n",
      "    scale_y_continuous(labels='comma')"
     ],
     "language": "python",
     "metadata": {},
     "outputs": []
    },
    {
     "cell_type": "markdown",
     "metadata": {
      "slideshow": {
       "slide_type": "slide"
      }
     },
     "source": [
      "ggplot also natively handles Pandas DataFrames:"
     ]
    },
    {
     "cell_type": "code",
     "collapsed": false,
     "input": [
      "meat_lng = pd.melt(meat, id_vars=['date'])\n",
      "\n",
      "p = ggplot(aes(x='date', y='value'), data=meat_lng)\n",
      "p + geom_point() + \\\n",
      "    stat_smooth(colour=\"red\") + \\\n",
      "    facet_wrap(\"variable\")"
     ],
     "language": "python",
     "metadata": {},
     "outputs": []
    },
    {
     "cell_type": "markdown",
     "metadata": {},
     "source": [
      "Former R users who have switched to Python: this may be what you're looking for!\n",
      "\n",
      "Read more at http://blog.yhathq.com/posts/ggplot-for-python.html"
     ]
    },
    {
     "cell_type": "markdown",
     "metadata": {},
     "source": [
      "# PrettyPlotLib\n",
      "\n",
      "http://olgabot.github.io/prettyplotlib/\n",
      "\n",
      "- Package by [Olga Botvinnik](https://twitter.com/olgabot)\n",
      "- Focuses on prettifying matplotlib plots through customizing colors, transparencies, ticks & labels, etc.\n",
      "- Generally mirrors the standard matplotlib API"
     ]
    },
    {
     "cell_type": "code",
     "collapsed": false,
     "input": [
      "%matplotlib inline\n",
      "import numpy as np\n",
      "import matplotlib.pyplot as plt\n",
      "import prettyplotlib as ppl\n",
      "\n",
      "from prettyplotlib import brewer2mpl"
     ],
     "language": "python",
     "metadata": {},
     "outputs": []
    },
    {
     "cell_type": "code",
     "collapsed": false,
     "input": [
      "fig, ax = plt.subplots(figsize=(8, 6))\n",
      "\n",
      "for i in range(8):\n",
      "    x = np.random.normal(loc=i, size=1000)\n",
      "    y = np.random.normal(loc=i, size=1000)\n",
      "    ppl.scatter(ax, x, y, label=str(i))\n",
      "\n",
      "ppl.legend(ax);"
     ],
     "language": "python",
     "metadata": {},
     "outputs": []
    },
    {
     "cell_type": "markdown",
     "metadata": {},
     "source": [
      "And here's matplotlib for comparison"
     ]
    },
    {
     "cell_type": "code",
     "collapsed": false,
     "input": [
      "# Show the whole color range\n",
      "fig, ax = plt.subplots(figsize=(8, 6))\n",
      "\n",
      "for i in range(8):\n",
      "    x = np.random.normal(loc=i, size=1000)\n",
      "    y = np.random.normal(loc=i, size=1000)\n",
      "    plt.scatter(x, y, label=str(i))\n",
      "\n",
      "plt.legend();"
     ],
     "language": "python",
     "metadata": {},
     "outputs": []
    },
    {
     "cell_type": "markdown",
     "metadata": {
      "slideshow": {
       "slide_type": "slide"
      }
     },
     "source": [
      "Other plot types are available as well:"
     ]
    },
    {
     "cell_type": "code",
     "collapsed": false,
     "input": [
      "fig, ax = plt.subplots(figsize=(8, 6))\n",
      "\n",
      "for i in range(8):\n",
      "    y = np.random.normal(size=1000).cumsum()\n",
      "    x = np.arange(1000)\n",
      "\n",
      "    # For now, you need to specify both x and y :(\n",
      "    # Still figuring out how to specify just one\n",
      "    ppl.plot(ax, x, y, label=str(i), linewidth=0.75)\n",
      "\n",
      "ppl.legend(ax);"
     ],
     "language": "python",
     "metadata": {},
     "outputs": []
    },
    {
     "cell_type": "markdown",
     "metadata": {
      "slideshow": {
       "slide_type": "slide"
      }
     },
     "source": [
      "Also some nice plot annotations with nice color selections:"
     ]
    },
    {
     "cell_type": "code",
     "collapsed": false,
     "input": [
      "import string\n",
      "\n",
      "fig, ax = plt.subplots(figsize=(8, 6))\n",
      "np.random.seed(14)\n",
      "n = 10\n",
      "ppl.bar(ax, np.arange(n), np.abs(np.random.randn(n)),\n",
      "        annotate=range(n,2*n), grid='y', xticklabels=string.uppercase[:n])\n",
      "fig.savefig('bar_prettyplotlib_grid_annotated_user_labeled.png')"
     ],
     "language": "python",
     "metadata": {},
     "outputs": []
    }
   ],
   "metadata": {}
  }
 ]
}