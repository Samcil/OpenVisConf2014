{
 "metadata": {
  "celltoolbar": "Slideshow",
  "name": "",
  "signature": "sha256:56ae4b1680c37afff608e4e3900b30cdda9cf022e7b6117b964d5294def4423c"
 },
 "nbformat": 3,
 "nbformat_minor": 0,
 "worksheets": [
  {
   "cells": [
    {
     "cell_type": "heading",
     "level": 1,
     "metadata": {
      "slideshow": {
       "slide_type": "slide"
      }
     },
     "source": [
      "Visualization in Python: Matplotlib and Beyond"
     ]
    },
    {
     "cell_type": "code",
     "collapsed": false,
     "input": [
      "%run talktools\n",
      "%matplotlib inline"
     ],
     "language": "python",
     "metadata": {
      "slideshow": {
       "slide_type": "skip"
      }
     },
     "outputs": [
      {
       "html": [
        "<style>\n",
        "/*\n",
        "   Simple CSS styling for using IPython Notebooks for talks.\n",
        "\n",
        "   Author: Fernando Perez <fernando.perez@berkeley.edu>\n",
        "*/\n",
        "\n",
        "talk-title\n",
        "{\n",
        "  color: #111133;\n",
        "  font-size: 220%;\n",
        "  font-weight:bold;\n",
        "  line-height: 1.2;\n",
        "  margin: 10px 50px 10px;\n",
        "  }\n",
        "\n",
        "talk-subtitle\n",
        "{\n",
        "  color: #111155;\n",
        "  font-size: 150%;\n",
        "  font-weight:bold;\n",
        "  line-height: 1.2;\n",
        "  margin: 20px 50px 20px;\n",
        "  text-align: center;\n",
        "  }\n",
        "\n",
        ".slide-header, p.slide-header\n",
        "{\n",
        "  color: #498AF3;\n",
        "  font-size: 180%;\n",
        "  font-weight:bold;\n",
        "  margin: 0px 20px 10px;\n",
        "  page-break-before: always;\n",
        "  text-align: center;\n",
        "  }\n",
        "\n",
        ".rendered_html\n",
        "{\n",
        "  color: #2C5494;\n",
        "  font-family: Ubuntu;\n",
        "  font-size: 170%;\n",
        "  line-height: 1.1;\n",
        "  margin: 0.5em 0;\n",
        "  }\n",
        "\n",
        ".rendered_html h1\n",
        "{\n",
        "  color: #1111AA;\n",
        "  line-height: 1.2;\n",
        "  margin: 0.15em 0em 0.5em;\n",
        "  page-break-before: always;\n",
        "  text-align: center;\n",
        "  }\n",
        "\n",
        "\n",
        ".rendered_html h2\n",
        "{\n",
        "  color: #111133;\n",
        "  line-height: 1.2;\n",
        "  margin: 1.1em 0em 0.5em;\n",
        "  text-align: center;\n",
        "  }\n",
        "\n",
        ".rendered_html h3\n",
        "{\n",
        "  font-size: 100%;\n",
        "  line-height: 1.2;\n",
        "  margin: 1.1em 0em 0.5em;\n",
        "  }\n",
        "\n",
        ".rendered_html h5\n",
        "{\n",
        "  font-size: 50%;\n",
        "  line-height: 1;\n",
        "  margin: 0.3em 0em 0.3em;\n",
        "  font-weight: bold;\n",
        "  text-align: center;\n",
        "  }\n",
        "\n",
        ".rendered_html h6\n",
        "{\n",
        "  font-size: 50%;\n",
        "  line-height: 1;\n",
        "  margin: 0.3em 0em 0.3em;\n",
        "  font-weight: normal;\n",
        "  text-align: center;\n",
        "  }\n",
        "\n",
        ".rendered_html li\n",
        "{\n",
        "  line-height: 1.8;\n",
        "  }\n",
        "\n",
        ".input_prompt, .CodeMirror-lines, .output_area\n",
        "{\n",
        "  font-family: Consolas;\n",
        "  font-size: 120%;\n",
        "  }\n",
        "\n",
        ".gap-above\n",
        "{\n",
        "  padding-top: 200px;\n",
        "  }\n",
        "\n",
        ".gap01\n",
        "{\n",
        "  padding-top: 10px;\n",
        "  }\n",
        "\n",
        ".gap05\n",
        "{\n",
        "  padding-top: 50px;\n",
        "  }\n",
        "\n",
        ".gap1\n",
        "{\n",
        "  padding-top: 100px;\n",
        "  }\n",
        "\n",
        ".gap2\n",
        "{\n",
        "  padding-top: 200px;\n",
        "  }\n",
        "\n",
        ".gap3\n",
        "{\n",
        "  padding-top: 300px;\n",
        "  }\n",
        "\n",
        ".emph\n",
        "{\n",
        "  color: #386BBC;\n",
        "  }\n",
        "\n",
        ".strike\n",
        "{\n",
        "  text-decoration:line-through;\n",
        "  color: #94B8F3;\n",
        "  }\n",
        "\n",
        ".warn\n",
        "{\n",
        "  color: red;\n",
        "  }\n",
        "\n",
        ".center\n",
        "{\n",
        "  text-align: center;\n",
        "  }\n",
        "\n",
        ".nb_link\n",
        "{\n",
        "    padding-bottom: 0.5em;\n",
        "}\n",
        "\n",
        "table.mytable\n",
        "{\n",
        "    border: 0px;\n",
        "}\n",
        "\n",
        ".mytable tbody\n",
        "{\n",
        "    border: 0px;\n",
        "}\n",
        "\n",
        ".mytable td\n",
        "{\n",
        "    border: 0px;\n",
        "}\n",
        "\n",
        ".mytable tr\n",
        "{\n",
        "    border: 0px;\n",
        "}\n",
        "\n",
        "</style>\n"
       ],
       "metadata": {},
       "output_type": "display_data",
       "text": [
        "<IPython.core.display.HTML object>"
       ]
      }
     ],
     "prompt_number": 1
    },
    {
     "cell_type": "heading",
     "level": 2,
     "metadata": {
      "slideshow": {
       "slide_type": "slide"
      }
     },
     "source": [
      "Matplotlib sometimes gets a bad rap..."
     ]
    },
    {
     "cell_type": "heading",
     "level": 3,
     "metadata": {},
     "source": [
      "First because of its defaults..."
     ]
    },
    {
     "cell_type": "code",
     "collapsed": false,
     "input": [
      "import numpy as np\n",
      "import matplotlib.pyplot as plt\n",
      "\n",
      "x, y = np.random.normal(size=(2, 100))\n",
      "\n",
      "fig = plt.figure(figsize=(8, 6))\n",
      "plt.plot(x, y, 'ob', ms=10)\n",
      "plt.grid(axis='y')"
     ],
     "language": "python",
     "metadata": {
      "slideshow": {
       "slide_type": "-"
      }
     },
     "outputs": [
      {
       "metadata": {},
       "output_type": "display_data",
       "png": "[encoded data removed]",
       "text": [
        "<matplotlib.figure.Figure at 0x10651bd50>"
       ]
      }
     ],
     "prompt_number": 2
    },
    {
     "cell_type": "markdown",
     "metadata": {
      "slideshow": {
       "slide_type": "slide"
      }
     },
     "source": [
      "## Wait... this reminds me of something..."
     ]
    },
    {
     "cell_type": "markdown",
     "metadata": {
      "slideshow": {
       "slide_type": "-"
      }
     },
     "source": [
      "<img src=\"images/excel.png\" width=\"600px\">"
     ]
    },
    {
     "cell_type": "markdown",
     "metadata": {
      "slideshow": {
       "slide_type": "-"
      }
     },
     "source": [
      "<img src=\"images/mpl.png\" width=\"500px\">\n",
      "\n",
      "See this [Excel vs. Python vs. IDL](http://www.ifweassume.com/2013/10/excel-vs-python-vs-idl.html) on the blog *If We Assume* for more side-by-side comparisons."
     ]
    },
    {
     "cell_type": "markdown",
     "metadata": {},
     "source": [
      "### Also draws flak for its static output in the notebook..."
     ]
    },
    {
     "cell_type": "code",
     "collapsed": false,
     "input": [
      "ax = plt.axes(aspect='equal')\n",
      "ax.add_patch(plt.Circle((0.7, 0.7), radius=0.5, alpha=0.3));"
     ],
     "language": "python",
     "metadata": {},
     "outputs": [
      {
       "metadata": {},
       "output_type": "display_data",
       "png": "[encoded data removed]",
       "text": [
        "<matplotlib.figure.Figure at 0x10651ba90>"
       ]
      }
     ],
     "prompt_number": 3
    },
    {
     "cell_type": "markdown",
     "metadata": {},
     "source": [
      "## With enough effort...\n",
      "\n",
      "you can make some halfway decent graphics...\n",
      "\n",
      "<img src=\"images/asteroids.png\">\n",
      "\n",
      "(novel way to visualize four-dimensional data)"
     ]
    },
    {
     "cell_type": "markdown",
     "metadata": {
      "slideshow": {
       "slide_type": "slide"
      }
     },
     "source": [
      "But this takes **a lot** of by-hand tweaking..."
     ]
    },
    {
     "cell_type": "code",
     "collapsed": false,
     "input": [
      "# %load http://www.astroml.org/_downloads/fig_moving_objects_multicolor.py"
     ],
     "language": "python",
     "metadata": {},
     "outputs": [],
     "prompt_number": 4
    },
    {
     "cell_type": "code",
     "collapsed": false,
     "input": [
      "\"\"\"\n",
      "SDSS Stripe 82 Moving Object Catalog\n",
      "------------------------------------\n",
      "Figure 1.12.\n",
      "\n",
      "A multicolor scatter plot of the properties of asteroids from the SDSS Moving\n",
      "Object Catalog (cf. figure 1.8). The left panel shows observational markers\n",
      "of the chemical properties of the asteroids: two colors a* and i-z. The\n",
      "right panel shows the orbital parameters: semimajor axis a vs. the sine of\n",
      "the inclination. The color of points in the right panel reflects their\n",
      "position in the left panel.  This plot is similar to that used in\n",
      "figures 3-4 of Parker et al 2008.\n",
      "\"\"\"\n",
      "# Author: Jake VanderPlas\n",
      "# License: BSD\n",
      "#   The figure produced by this code is published in the textbook\n",
      "#   \"Statistics, Data Mining, and Machine Learning in Astronomy\" (2013)\n",
      "#   For more information, see http://astroML.github.com\n",
      "#   To report a bug or issue, use the following forum:\n",
      "#    https://groups.google.com/forum/#!forum/astroml-general\n",
      "import numpy as np\n",
      "from matplotlib import pyplot as plt\n",
      "from astroML.datasets import fetch_moving_objects\n",
      "from astroML.plotting.tools import devectorize_axes\n",
      "\n",
      "#----------------------------------------------------------------------\n",
      "# This function adjusts matplotlib settings for a uniform feel in the textbook.\n",
      "# Note that with usetex=True, fonts are rendered with LaTeX.  This may\n",
      "# result in an error if LaTeX is not installed on your system.  In that case,\n",
      "# you can set usetex to False.\n",
      "from astroML.plotting import setup_text_plots\n",
      "setup_text_plots(fontsize=8, usetex=True)\n",
      "\n",
      "\n",
      "def black_bg_subplot(*args, **kwargs):\n",
      "    \"\"\"Create a subplot with black background\"\"\"\n",
      "    kwargs['axisbg'] = 'k'\n",
      "    ax = plt.subplot(*args, **kwargs)\n",
      "\n",
      "    # set ticks and labels to white\n",
      "    for spine in ax.spines.values():\n",
      "        spine.set_color('w')\n",
      "\n",
      "    for tick in ax.xaxis.get_major_ticks() + ax.yaxis.get_major_ticks():\n",
      "        for child in tick.get_children():\n",
      "            child.set_color('w')\n",
      "\n",
      "    return ax\n",
      "\n",
      "\n",
      "def compute_color(mag_a, mag_i, mag_z, a_crit=-0.1):\n",
      "    \"\"\"\n",
      "    Compute the scatter-plot color using code adapted from\n",
      "    TCL source used in Parker 2008.\n",
      "    \"\"\"\n",
      "    # define the base color scalings\n",
      "    R = np.ones_like(mag_i)\n",
      "    G = 0.5 * 10 ** (-2 * (mag_i - mag_z - 0.01))\n",
      "    B = 1.5 * 10 ** (-8 * (mag_a + 0.0))\n",
      "\n",
      "    # enhance green beyond the a_crit cutoff\n",
      "    G += 10. / (1 + np.exp((mag_a - a_crit) / 0.02))\n",
      "\n",
      "    # normalize color of each point to its maximum component\n",
      "    RGB = np.vstack([R, G, B])\n",
      "    RGB /= RGB.max(0)\n",
      "\n",
      "    # return an array of RGB colors, which is shape (n_points, 3)\n",
      "    return RGB.T\n",
      "\n",
      "\n",
      "#------------------------------------------------------------\n",
      "# Fetch data and extract the desired quantities\n",
      "data = fetch_moving_objects(Parker2008_cuts=True)\n",
      "mag_a = data['mag_a']\n",
      "mag_i = data['mag_i']\n",
      "mag_z = data['mag_z']\n",
      "a = data['aprime']\n",
      "sini = data['sin_iprime']\n",
      "\n",
      "# dither: magnitudes are recorded only to +/- 0.01\n",
      "mag_a += -0.005 + 0.01 * np.random.random(size=mag_a.shape)\n",
      "mag_i += -0.005 + 0.01 * np.random.random(size=mag_i.shape)\n",
      "mag_z += -0.005 + 0.01 * np.random.random(size=mag_z.shape)\n",
      "\n",
      "# compute RGB color based on magnitudes\n",
      "color = compute_color(mag_a, mag_i, mag_z)\n",
      "\n",
      "#------------------------------------------------------------\n",
      "# set up the plot\n",
      "fig = plt.figure(figsize=(5, 2.2), facecolor='k')\n",
      "fig.subplots_adjust(left=0.1, right=0.95, wspace=0.3,\n",
      "                    bottom=0.2, top=0.93)\n",
      "\n",
      "# plot the color-magnitude plot\n",
      "ax = black_bg_subplot(121)\n",
      "ax.scatter(mag_a, mag_i - mag_z,\n",
      "           c=color, s=0.5, lw=0)\n",
      "devectorize_axes(ax, dpi=400)\n",
      "\n",
      "ax.plot([0, 0], [-0.8, 0.6], '--w', lw=1)\n",
      "ax.plot([0, 0.4], [-0.15, -0.15], '--w', lw=1)\n",
      "\n",
      "ax.set_xlim(-0.3, 0.4)\n",
      "ax.set_ylim(-0.8, 0.6)\n",
      "\n",
      "ax.set_xlabel(r'${\\rm a*}$', color='w')\n",
      "ax.set_ylabel(r'${\\rm i-z}$', color='w')\n",
      "\n",
      "# plot the orbital parameters plot\n",
      "ax = black_bg_subplot(122)\n",
      "ax.scatter(a, sini,\n",
      "           c=color, s=0.5, lw=0, edgecolor='none')\n",
      "devectorize_axes(ax, dpi=400)\n",
      "\n",
      "ax.plot([2.5, 2.5], [-0.02, 0.3], '--w', lw=1)\n",
      "ax.plot([2.82, 2.82], [-0.02, 0.3], '--w', lw=1)\n",
      "\n",
      "ax.set_xlim(2.0, 3.3)\n",
      "ax.set_ylim(-0.02, 0.3)\n",
      "\n",
      "ax.set_xlabel(r'${\\rm a (AU)}$', color='w')\n",
      "ax.set_ylabel(r'${\\rm sin(i)}$', color='w')\n",
      "\n",
      "# label the plot\n",
      "text_kwargs = dict(color='w', transform=plt.gca().transAxes,\n",
      "                   ha='center', va='bottom')\n",
      "\n",
      "ax.text(0.25, 1.02, 'Inner', **text_kwargs)\n",
      "ax.text(0.53, 1.02, 'Mid', **text_kwargs)\n",
      "ax.text(0.83, 1.02, 'Outer', **text_kwargs)\n",
      "\n",
      "# Saving the black-background figure requires some extra arguments:\n",
      "#fig.savefig('moving_objects.png',\n",
      "#            facecolor='black',\n",
      "#            edgecolor='none')\n",
      "\n",
      "plt.show()\n"
     ],
     "language": "python",
     "metadata": {},
     "outputs": []
    },
    {
     "cell_type": "markdown",
     "metadata": {},
     "source": [
      "### (Shameless plug...)\n",
      "\n",
      "[AstroML](http://astroML.org): Python machine learning for Astronomy and Astrophysics\n",
      "\n",
      "This is a website associated with a textbook I just published:\n",
      "\n",
      "<img src=\"images/astroml.gif\">\n",
      "\n",
      "[Statistics, Data Mining, and Machine Learning in Astronomy](http://press.princeton.edu/titles/10159.html)"
     ]
    },
    {
     "cell_type": "markdown",
     "metadata": {
      "slideshow": {
       "slide_type": "slide"
      }
     },
     "source": [
      "## Matplotlib is old, it's static, and it has crappy defaults...\n",
      "\n",
      "But it's *really, really* comprehensive, and *really, really* battle-tested.\n",
      "\n",
      "A graphics framework needs the following:\n",
      "\n",
      "<img src=\"images/viz-components.png\">"
     ]
    },
    {
     "cell_type": "markdown",
     "metadata": {
      "slideshow": {
       "slide_type": "slide"
      }
     },
     "source": [
      "## Matplotlib does all of these\n",
      "\n",
      "<img src=\"images/viz-components.png\" width=\"30%\">\n",
      "\n",
      "- **API:** both matlab-like (stateful, terse, less powerful) and object-oriented (stateless, verbose, more powerful)\n",
      "- **Abstraction:** basically a high-powered SVG internal object model\n",
      "- **Output:**\n",
      "  + more static backends than you'd ever need: pdf, png, svg, eps, ps, pgf, jpeg...\n",
      "  + more GUI backends than you'd ever need: Tk, Agg, OSX, GTK, Qt4, WebAgg, ..."
     ]
    },
    {
     "cell_type": "markdown",
     "metadata": {
      "slideshow": {
       "slide_type": "slide"
      }
     },
     "source": [
      "## Nobody wants to re-implement all of this functionality...\n",
      "\n",
      "So why not just replace a piece of it?\n",
      "\n",
      "<table class=\"mytable\">\n",
      "    <tr>\n",
      "        <td><img src=\"images/api.png\"></td>\n",
      "        <td><ul><li>[Seaborn](http://www.stanford.edu/~mwaskom/software/seaborn/)<li>[PrettyPlotLib](http://olgabot.github.io/prettyplotlib/)<li>[ggplot-py](http://blog.yhathq.com/posts/ggplot-for-python.html)</ul></td>\n",
      "    </tr>\n",
      "    <tr>\n",
      "        <td><img src=\"images/output.png\"></td>\n",
      "        <td><ul><li>[mpld3 & mplexporter](http://mpld3.github.io)</li></ul></td>\n",
      "    </tr>\n",
      "</table>\n",
      "\n",
      "Other projects side-step matplotlib altogether: [Bokeh](http://bokeh.pydata.org), [Vincent](http://vincent.readthedocs.org/en/latest/), [bearcart](https://github.com/wrobstory/bearcart), [plotly](https://plot.ly/), etc."
     ]
    },
    {
     "cell_type": "markdown",
     "metadata": {
      "slideshow": {
       "slide_type": "slide"
      }
     },
     "source": [
      "# Replacing matplotlib's API:\n",
      "\n",
      "## PrettyPlotLib, ggplot, and Seaborn.\n",
      "\n",
      "All three packages have roughly the same goal: *create beautiful matplotlib plots without the clunky matplotlib syntax*.\n",
      "\n",
      "- [PrettyPlotLib](PrettyPlotLib.ipynb)\n",
      "- [ggplot](ggplot.ipynb)\n",
      "- [Seaborn](Seaborn.ipynb)"
     ]
    },
    {
     "cell_type": "markdown",
     "metadata": {
      "slideshow": {
       "slide_type": "slide"
      }
     },
     "source": [
      "# Replacing matplotlibs output renderer:\n",
      "\n",
      "## mpld3 & mplexporter\n",
      "\n",
      "mplexporter is a package which crawls the object structure of matplotlib figures, and offers hooks to create custom renderers.\n",
      "\n",
      "mpld3 uses this framework to export maplotlib plots to HTML representations using [D3js](http://d3js.org).\n",
      "\n",
      "- [mpld3](mpld3.ipynb)"
     ]
    }
   ],
   "metadata": {}
  }
 ]
}