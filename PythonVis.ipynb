{
 "metadata": {
  "celltoolbar": "Slideshow",
  "name": "",
  "signature": "sha256:6c5f13650923d0f1b0316213b14e49d08ca651d39e8cfc11db55e198a23c5ca4"
 },
 "nbformat": 3,
 "nbformat_minor": 0,
 "worksheets": [
  {
   "cells": [
    {
     "cell_type": "heading",
     "level": 1,
     "metadata": {
      "slideshow": {
       "slide_type": "slide"
      }
     },
     "source": [
      "Visualization in Python: Matplotlib and Beyond"
     ]
    },
    {
     "cell_type": "code",
     "collapsed": false,
     "input": [
      "%run talktools\n",
      "%matplotlib inline"
     ],
     "language": "python",
     "metadata": {
      "slideshow": {
       "slide_type": "skip"
      }
     },
     "outputs": [
      {
       "html": [
        "<style>\n",
        "/*\n",
        "   Simple CSS styling for using IPython Notebooks for talks.\n",
        "\n",
        "   Author: Fernando Perez <fernando.perez@berkeley.edu>\n",
        "*/\n",
        "\n",
        "talk-title\n",
        "{\n",
        "  color: #111133;\n",
        "  font-size: 220%;\n",
        "  font-weight:bold;\n",
        "  line-height: 1.2;\n",
        "  margin: 10px 50px 10px;\n",
        "  }\n",
        "\n",
        "talk-subtitle\n",
        "{\n",
        "  color: #111155;\n",
        "  font-size: 150%;\n",
        "  font-weight:bold;\n",
        "  line-height: 1.2;\n",
        "  margin: 20px 50px 20px;\n",
        "  text-align: center;\n",
        "  }\n",
        "\n",
        ".slide-header, p.slide-header\n",
        "{\n",
        "  color: #498AF3;\n",
        "  font-size: 180%;\n",
        "  font-weight:bold;\n",
        "  margin: 0px 20px 10px;\n",
        "  page-break-before: always;\n",
        "  text-align: center;\n",
        "  }\n",
        "\n",
        ".rendered_html\n",
        "{\n",
        "  color: #2C5494;\n",
        "  font-family: Ubuntu;\n",
        "  font-size: 170%;\n",
        "  line-height: 1.1;\n",
        "  margin: 0.5em 0;\n",
        "  }\n",
        "\n",
        ".rendered_html h1\n",
        "{\n",
        "  color: #1111AA;\n",
        "  line-height: 1.2;\n",
        "  margin: 0.15em 0em 0.5em;\n",
        "  page-break-before: always;\n",
        "  text-align: center;\n",
        "  }\n",
        "\n",
        "\n",
        ".rendered_html h2\n",
        "{\n",
        "  color: #111133;\n",
        "  line-height: 1.2;\n",
        "  margin: 1.1em 0em 0.5em;\n",
        "  text-align: center;\n",
        "  }\n",
        "\n",
        ".rendered_html h3\n",
        "{\n",
        "  font-size: 100%;\n",
        "  line-height: 1.2;\n",
        "  margin: 1.1em 0em 0.5em;\n",
        "  }\n",
        "\n",
        ".rendered_html h5\n",
        "{\n",
        "  font-size: 50%;\n",
        "  line-height: 1;\n",
        "  margin: 0.3em 0em 0.3em;\n",
        "  font-weight: bold;\n",
        "  text-align: center;\n",
        "  }\n",
        "\n",
        ".rendered_html h6\n",
        "{\n",
        "  font-size: 50%;\n",
        "  line-height: 1;\n",
        "  margin: 0.3em 0em 0.3em;\n",
        "  font-weight: normal;\n",
        "  text-align: center;\n",
        "  }\n",
        "\n",
        ".rendered_html li\n",
        "{\n",
        "  line-height: 1.8;\n",
        "  }\n",
        "\n",
        ".input_prompt, .CodeMirror-lines, .output_area\n",
        "{\n",
        "  font-family: Consolas;\n",
        "  font-size: 120%;\n",
        "  }\n",
        "\n",
        ".gap-above\n",
        "{\n",
        "  padding-top: 200px;\n",
        "  }\n",
        "\n",
        ".gap01\n",
        "{\n",
        "  padding-top: 10px;\n",
        "  }\n",
        "\n",
        ".gap05\n",
        "{\n",
        "  padding-top: 50px;\n",
        "  }\n",
        "\n",
        ".gap1\n",
        "{\n",
        "  padding-top: 100px;\n",
        "  }\n",
        "\n",
        ".gap2\n",
        "{\n",
        "  padding-top: 200px;\n",
        "  }\n",
        "\n",
        ".gap3\n",
        "{\n",
        "  padding-top: 300px;\n",
        "  }\n",
        "\n",
        ".emph\n",
        "{\n",
        "  color: #386BBC;\n",
        "  }\n",
        "\n",
        ".strike\n",
        "{\n",
        "  text-decoration:line-through;\n",
        "  color: #94B8F3;\n",
        "  }\n",
        "\n",
        ".warn\n",
        "{\n",
        "  color: red;\n",
        "  }\n",
        "\n",
        ".center\n",
        "{\n",
        "  text-align: center;\n",
        "  }\n",
        "\n",
        ".nb_link\n",
        "{\n",
        "    padding-bottom: 0.5em;\n",
        "}\n",
        "\n",
        "table.mytable\n",
        "{\n",
        "    border: 0px;\n",
        "}\n",
        "\n",
        ".mytable tbody\n",
        "{\n",
        "    border: 0px;\n",
        "}\n",
        "\n",
        ".mytable td\n",
        "{\n",
        "    border: 0px;\n",
        "}\n",
        "\n",
        ".mytable tr\n",
        "{\n",
        "    border: 0px;\n",
        "}\n",
        "\n",
        "</style>\n"
       ],
       "metadata": {},
       "output_type": "display_data",
       "text": [
        "<IPython.core.display.HTML at 0x1062aab10>"
       ]
      }
     ],
     "prompt_number": 1
    },
    {
     "cell_type": "heading",
     "level": 2,
     "metadata": {
      "slideshow": {
       "slide_type": "slide"
      }
     },
     "source": [
      "Matplotlib sometimes gets a bad rap..."
     ]
    },
    {
     "cell_type": "heading",
     "level": 3,
     "metadata": {},
     "source": [
      "First because of its defaults..."
     ]
    },
    {
     "cell_type": "code",
     "collapsed": false,
     "input": [
      "import numpy as np\n",
      "import matplotlib.pyplot as plt\n",
      "\n",
      "x, y = np.random.normal(size=(2, 100))\n",
      "\n",
      "fig = plt.figure(figsize=(8, 6))\n",
      "plt.plot(x, y, 'ob', ms=10)\n",
      "plt.grid(axis='y')"
     ],
     "language": "python",
     "metadata": {
      "slideshow": {
       "slide_type": "-"
      }
     },
     "outputs": [
      {
       "metadata": {},
       "output_type": "display_data",
       "png": "[encoded data removed]",
       "text": [
        "<matplotlib.figure.Figure at 0x106485890>"
       ]
      }
     ],
     "prompt_number": 2
    },
    {
     "cell_type": "markdown",
     "metadata": {
      "slideshow": {
       "slide_type": "slide"
      }
     },
     "source": [
      "## Wait... this reminds me of something..."
     ]
    },
    {
     "cell_type": "markdown",
     "metadata": {
      "slideshow": {
       "slide_type": "-"
      }
     },
     "source": [
      "<img src=\"images/excel.png\" width=\"600px\">"
     ]
    },
    {
     "cell_type": "markdown",
     "metadata": {
      "slideshow": {
       "slide_type": "-"
      }
     },
     "source": [
      "<img src=\"images/mpl.png\" width=\"500px\">\n",
      "\n",
      "See this [Excel vs. Python vs. IDL](http://www.ifweassume.com/2013/10/excel-vs-python-vs-idl.html) on the blog *If We Assume* for more side-by-side comparisons."
     ]
    },
    {
     "cell_type": "heading",
     "level": 3,
     "metadata": {
      "slideshow": {
       "slide_type": "slide"
      }
     },
     "source": [
      "Also because of its static output in the notebook..."
     ]
    },
    {
     "cell_type": "code",
     "collapsed": false,
     "input": [
      "ax = plt.axes(aspect='equal')\n",
      "ax.add_patch(plt.Circle((0.7, 0.7), radius=0.5, alpha=0.3));"
     ],
     "language": "python",
     "metadata": {},
     "outputs": [
      {
       "metadata": {},
       "output_type": "display_data",
       "png": "[encoded data removed]",
       "text": [
        "<matplotlib.figure.Figure at 0x1064b8ad0>"
       ]
      }
     ],
     "prompt_number": 3
    },
    {
     "cell_type": "markdown",
     "metadata": {
      "slideshow": {
       "slide_type": "slide"
      }
     },
     "source": [
      "## Matplotlib is old, it's static, and it has crappy defaults...\n",
      "\n",
      "But it's *really, really* comprehensive, and *really, really* battle-tested.\n",
      "\n",
      "A graphics framework needs the following:\n",
      "\n",
      "<img src=\"images/viz-components.png\">"
     ]
    },
    {
     "cell_type": "markdown",
     "metadata": {
      "slideshow": {
       "slide_type": "slide"
      }
     },
     "source": [
      "## Matplotlib does all of these\n",
      "\n",
      "<img src=\"images/viz-components.png\" width=\"30%\">\n",
      "\n",
      "- **API:** both matlab-like (stateful, terse, less powerful) and object-oriented (stateless, verbose, more powerful)\n",
      "- **Abstraction:** basically a high-powered SVG internal object model\n",
      "- **Output:**\n",
      "  + more static backends than you'd ever need: pdf, png, svg, eps, ps, pgf, jpeg...\n",
      "  + more GUI backends than you'd ever need: Tk, Agg, OSX, GTK, Qt4, WebAgg, ..."
     ]
    },
    {
     "cell_type": "markdown",
     "metadata": {
      "slideshow": {
       "slide_type": "slide"
      }
     },
     "source": [
      "## Nobody wants to re-implement all of this functionality...\n",
      "\n",
      "So why not just replace a piece of it?\n",
      "\n",
      "<table class=\"mytable\">\n",
      "    <tr>\n",
      "        <td><img src=\"images/api.png\"></td>\n",
      "        <td><ul><li>[Seaborn](http://www.stanford.edu/~mwaskom/software/seaborn/)<li>[PrettyPlotLib](http://olgabot.github.io/prettyplotlib/)<li>[ggplot-py](http://blog.yhathq.com/posts/ggplot-for-python.html)</ul></td>\n",
      "    </tr>\n",
      "    <tr>\n",
      "        <td><img src=\"images/output.png\"></td>\n",
      "        <td><ul><li>[mpld3 & mplexporter](http://mpld3.github.io)</li></ul></td>\n",
      "    </tr>\n",
      "</table>\n",
      "\n",
      "Other projects side-step matplotlib altogether: [Bokeh](http://bokeh.pydata.org), [Vincent](http://vincent.readthedocs.org/en/latest/), [bearcart](https://github.com/wrobstory/bearcart), [plotly](https://plot.ly/), etc."
     ]
    },
    {
     "cell_type": "markdown",
     "metadata": {
      "slideshow": {
       "slide_type": "slide"
      }
     },
     "source": [
      "# Replacing matplotlib's API:\n",
      "\n",
      "## PrettyPlotLib, ggplot, and Seaborn.\n",
      "\n",
      "All three packages have roughly the same goal: *create beautiful matplotlib plots without the clunky matplotlib syntax*.\n",
      "\n",
      "- [PrettyPlotLib](PrettyPlotLib.ipynb)\n",
      "- [ggplot](ggplot.ipynb)\n",
      "- [Seaborn](Seaborn.ipynb)"
     ]
    },
    {
     "cell_type": "markdown",
     "metadata": {
      "slideshow": {
       "slide_type": "slide"
      }
     },
     "source": [
      "# Replacing matplotlibs output renderer:\n",
      "\n",
      "## mpld3 & mplexporter\n",
      "\n",
      "mplexporter is a package which crawls the object structure of matplotlib figures, and offers hooks to create custom renderers.\n",
      "\n",
      "mpld3 uses this framework to export maplotlib plots to HTML representations using [D3js](http://d3js.org).\n",
      "\n",
      "- [mpld3](mpld3.ipynb)"
     ]
    }
   ],
   "metadata": {}
  }
 ]
}